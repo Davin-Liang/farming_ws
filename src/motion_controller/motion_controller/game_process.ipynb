{
 "cells": [
  {
   "cell_type": "code",
   "execution_count": null,
   "metadata": {},
   "outputs": [],
   "source": [
    "import rclpy\n",
    "from farming_visioner import Game_Controller\n",
    "import time"
   ]
  },
  {
   "cell_type": "code",
   "execution_count": null,
   "metadata": {},
   "outputs": [],
   "source": [
    "A_switch                   = True\n",
    "B_switch                   = True\n",
    "C_switch                   = True\n",
    "Home_switch                = False\n",
    "\n",
    "patrol_speed               = 0.05"
   ]
  },
  {
   "cell_type": "code",
   "execution_count": null,
   "metadata": {},
   "outputs": [],
   "source": [
    "rclpy.init()\n",
    "node = Game_Controller(\"Game_Controller\")"
   ]
  },
  {
   "cell_type": "code",
   "execution_count": null,
   "metadata": {},
   "outputs": [],
   "source": [
    "node.voice_switch = True\n",
    "node.voice_board_params = ['-D', '0', '-d', '0']\n",
    "\n",
    "node.only_arm_action        = False      # 只让机械臂到相应的点位，并不进行视觉识别\n",
    "node.one_action             = False      # 机械臂到相应的点位，开启视觉，只授粉一朵花\n",
    "node.vision_for_voice       = False      # 机械臂到相应的点位，开始视觉，不授粉，只播报"
   ]
  },
  {
   "cell_type": "code",
   "execution_count": null,
   "metadata": {},
   "outputs": [],
   "source": [
    "if A_switch:\n",
    "    node.add_joint2_pre_slide                    = 8\n",
    "    node.add_joint3_pre_slide                    = -8\n",
    "    node.add_joint4_pre_slide                    = -11\n",
    "    node.add_joint4_slide                        = 9\n",
    "\n",
    "    for i in range(3):\n",
    "        node.car_action_in_lidar(patrol_speed, 0.3, distance_threshold=0.3)\n",
    "        if i == 0:\n",
    "            node.auto_pollinate(\"A\", \"a_left\", 22000, 1.5, 33000)\n",
    "            node.auto_pollinate(\"A\", \"a_right\", 22000, 1.5, 33000)\n",
    "        elif i == 1:\n",
    "            node.auto_pollinate(\"A\", \"a_right\", 22000, 1.5, 33000)\n",
    "            node.auto_pollinate(\"A\", \"a_left\", 22000, 1.5, 33000)\n",
    "        elif i == 2:\n",
    "            node.auto_pollinate(\"A\", \"a_left\", 22000, 1.5, 33000)\n",
    "            node.auto_pollinate(\"A\", \"a_right\", 22000, 1.5, 33000)\n",
    "    node.set_distance(0.55)\n",
    "    node.set_angle(-90.0, times=5.0)\n",
    "    node.car_action_in_lidar(-patrol_speed+0.01, 0.6, distance_threshold=0.13)\n",
    "    node.car_action_in_lidar(-patrol_speed+0.02, 0.6, distance_threshold=0.05)\n",
    "    time.sleep(1.0)\n",
    "    node.set_distance(-0.305) #TODO: \n",
    "    node.set_angle(0.0, times=5.0)"
   ]
  },
  {
   "cell_type": "code",
   "execution_count": null,
   "metadata": {},
   "outputs": [],
   "source": [
    "if B_switch:\n",
    "    node.add_joint4_pre_slide                    = -4 # -5\n",
    "    node.add_joint3_pre_slide                    = 0 # -4\n",
    "    node.add_joint2_pre_slide                    = 14\n",
    "    node.add_joint4_slide                        = 6\n",
    "\n",
    "    node.choose_arm_goal(\"moving\")\n",
    "    node.car_action_in_lidar(-patrol_speed+0.01, 0.4, distance_threshold=0.15)\n",
    "    node.set_distance(0.31) #TODO: \n",
    "    \n",
    "    node.auto_pollinate(\"B\", \"b_left_front\", 150000, 0.3, 30000)\n",
    "    node.auto_pollinate(\"B\", \"b_middle_front\", 150000, 0.3, 30000)\n",
    "    node.auto_pollinate(\"B\", \"b_right_front\", 150000, 0.3, 30000)\n",
    "    node.choose_arm_goal(\"moving\")\n",
    "\n",
    "    for i in range(3):\n",
    "        node.car_action_in_lidar(-patrol_speed+0.02, 0.4, distance_threshold=0.1)\n",
    "        node.set_distance(-0.285) #TODO: \n",
    "        # arm action\n",
    "        node.auto_pollinate(\"B\", \"b_left_back\", 150000, 0.3, 30000)\n",
    "        node.auto_pollinate(\"B\", \"b_middle_back\", 150000, 0.3, 30000)\n",
    "        node.auto_pollinate(\"B\", \"b_right_back\", 150000, 0.3, 30000)\n",
    "        \n",
    "        if i == 2:\n",
    "            break\n",
    "        node.auto_pollinate(\"B\", \"b_left_front\", 150000, 0.3, 30000)\n",
    "        node.auto_pollinate(\"B\", \"b_middle_front\", 150000, 0.3, 30000)\n",
    "        node.auto_pollinate(\"B\", \"b_right_front\", 150000, 0.3, 30000)\n",
    "        node.choose_arm_goal(\"moving\")\n",
    "\n",
    "    node.set_distance(-0.265) \n",
    "    node.choose_arm_goal(\"a_left\")\n",
    "    node.set_angle(90.0, times=5.0)\n",
    "    node.car_action_in_lidar(patrol_speed, 0.6, distance_threshold=0.05)\n",
    "    node.car_action_in_lidar(patrol_speed-0.02, 0.6, distance_threshold=0.05)\n",
    "    node.set_distance(0.375) #TODO: \n",
    "    node.set_angle(0.0, times=5.0)"
   ]
  },
  {
   "cell_type": "code",
   "execution_count": null,
   "metadata": {},
   "outputs": [],
   "source": [
    "if C_switch:\n",
    "    node.vision_for_voice       = True\n",
    "\n",
    "    node.car_action_in_lidar(0.03, 0.4)\n",
    "    node.set_distance(0.195)\n",
    "    node.auto_pollinate(\"C\", \"c_left\")\n",
    "    node.auto_pollinate(\"C\", \"c_right\")\n",
    "    for i in range(2):\n",
    "        node.set_distance(0.57) \n",
    "        if i == 0:\n",
    "            node.auto_pollinate(\"C\", \"c_right\")\n",
    "            node.auto_pollinate(\"C\", \"c_left\")\n",
    "        elif i == 1:\n",
    "            node.auto_pollinate(\"C\", \"c_left\")\n",
    "            node.auto_pollinate(\"C\", \"c_right\")"
   ]
  },
  {
   "cell_type": "code",
   "execution_count": null,
   "metadata": {},
   "outputs": [],
   "source": [
    "if node:\n",
    "    node.destroy_node()\n",
    "    rclpy.shutdown()"
   ]
  }
 ],
 "metadata": {
  "language_info": {
   "name": "python"
  }
 },
 "nbformat": 4,
 "nbformat_minor": 2
}
